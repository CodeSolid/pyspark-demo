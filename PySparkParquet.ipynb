{
 "cells": [
  {
   "cell_type": "markdown",
   "id": "03f019c5-699e-468f-806c-0b94933bf53e",
   "metadata": {},
   "source": [
    "## Creating a Spark Session\n"
   ]
  },
  {
   "cell_type": "code",
   "execution_count": 5,
   "id": "284cddce-e26d-4213-aa60-bcc39b37ce61",
   "metadata": {},
   "outputs": [],
   "source": [
    "from pyspark.sql import SparkSession\n",
    "spark = (SparkSession.builder.appName(\"pyspark_parquet\")\n",
    "     .config(\"spark.sql.crossJoin.enabled\",\"true\")\n",
    "     .getOrCreate())"
   ]
  },
  {
   "cell_type": "markdown",
   "id": "4aa25315-5e3f-43bd-b72c-c9fafda568de",
   "metadata": {},
   "source": [
    "Run a quick test:"
   ]
  },
  {
   "cell_type": "code",
   "execution_count": 2,
   "id": "3ad372ad-098d-4ede-954e-4926dca6e018",
   "metadata": {},
   "outputs": [
    {
     "name": "stdout",
     "output_type": "stream",
     "text": [
      "+----------+\n",
      "|     today|\n",
      "+----------+\n",
      "|2023-03-20|\n",
      "+----------+\n",
      "\n"
     ]
    }
   ],
   "source": [
    "spark.sql(\"select current_date() as today;\").show()"
   ]
  },
  {
   "cell_type": "code",
   "execution_count": null,
   "id": "29873c74-9d19-4e4e-a85d-c2ddbd2e9e0f",
   "metadata": {},
   "outputs": [],
   "source": []
  }
 ],
 "metadata": {
  "kernelspec": {
   "display_name": "Python 3 (ipykernel)",
   "language": "python",
   "name": "python3"
  },
  "language_info": {
   "codemirror_mode": {
    "name": "ipython",
    "version": 3
   },
   "file_extension": ".py",
   "mimetype": "text/x-python",
   "name": "python",
   "nbconvert_exporter": "python",
   "pygments_lexer": "ipython3",
   "version": "3.11.0"
  }
 },
 "nbformat": 4,
 "nbformat_minor": 5
}
